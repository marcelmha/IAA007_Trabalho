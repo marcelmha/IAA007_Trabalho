{
 "cells": [
  {
   "cell_type": "markdown",
   "metadata": {},
   "source": [
    "<div style=\"text-align: center; font-size: 2.5em; font-weight: bold; color: #2C3E50;\">O Petróleo: Crônicas de um Mundo em Crise</div>\n",
    "<div style=\"text-align: center; font-size: 1.2em; color: #7F8C8D;\">Uma análise visual da influência de conflitos, crises e decisões políticas no preço do petróleo</div>"
   ]
  },
  {
   "cell_type": "markdown",
   "metadata": {},
   "source": [
    "### Introdução: O Pulso da Economia Global\n",
    "\n",
    "O preço do petróleo é muito mais do que um indicador econômico; ele é o pulso da nossa civilização industrial. Cada oscilação em seu gráfico reflete um evento que moldou o mundo: uma guerra declarada, uma economia em colapso, uma pandemia que silenciou o planeta. Nesta análise, vamos dissecar esses momentos, usando dados, textos e imagens para contar a história de como o mundo moderno é movido, e abalado, pelo ouro negro."
   ]
  },
  {
   "cell_type": "code",
   "execution_count": null,
   "metadata": {},
   "outputs": [],
   "source": [
    "import pandas as pd\n",
    "import plotly.graph_objects as go\n",
    "import plotly.express as px\n",
    "from plotly.subplots import make_subplots\n",
    "\n",
    "# Carregando os dados do arquivo CSV local\n",
    "df = pd.DataFrame()\n",
    "try:\n",
    "    df = pd.read_csv('BrentOilPrices.csv')\n",
    "    df['Date'] = pd.to_datetime(df['Date'], format='mixed', errors='coerce')\n",
    "    df['Price'] = pd.to_numeric(df['Price'], errors='coerce')\n",
    "    df = df.dropna(subset=['Date', 'Price']).sort_values('Date').reset_index(drop=True)\n",
    "    print(f\"Dados carregados. Período da análise: {df['Date'].min().year} a {df['Date'].max().year}\")\n",
    "except FileNotFoundError:\n",
    "    print(\"ERRO: Arquivo 'BrentOilPrices.csv' não encontrado. Análise não pode continuar.\")"
   ]
  },
  {
   "cell_type": "markdown",
   "metadata": {},
   "source": [
    "## A Linha do Tempo Completa: O Mapa da Nossa Jornada (1987 - Hoje)\n",
    "Antes de mergulharmos nos detalhes, vamos observar o panorama completo. Este gráfico serve como nosso mapa, destacando os eventos que exploraremos em profundidade nos capítulos seguintes."
   ]
  },
  {
   "cell_type": "code",
   "execution_count": null,
   "metadata": {},
   "outputs": [],
   "source": [
    "if not df.empty:\n",
    "    fig_timeline = go.Figure()\n",
    "    fig_timeline.add_trace(go.Scatter(x=df['Date'], y=df['Price'], mode='lines', name='Preço Brent', line=dict(color='royalblue', width=1.5)))\n",
    "\n",
    "    # Adicionando marcações para os eventos que vamos detalhar\n",
    "    event_dates = {\n",
    "        'Guerra do Golfo': '1990-08-02',\n",
    "        'Crise Financeira 2008': '2008-09-15',\n",
    "        'Anexação da Crimeia': '2014-02-20',\n",
    "        'Pandemia COVID-19': '2020-03-11',\n",
    "        'Invasão da Ucrânia': '2022-02-24'\n",
    "    }\n",
    "    for event, date in event_dates.items():\n",
    "        fig_timeline.add_vline(x=date, line_width=1.5, line_dash=\"dash\", line_color=\"gray\", annotation_text=event)\n",
    "\n",
    "    fig_timeline.update_layout(\n",
    "        title='Linha do Tempo do Preço do Petróleo e Principais Crises Globais',\n",
    "        xaxis_title='Ano', yaxis_title='Preço (USD)', height=500\n",
    "    )\n",
    "    fig_timeline.show()"
   ]
  },
  {
   "cell_type": "markdown",
   "metadata": {},
   "source": [
    "--- \n",
    "## Estudo de Caso 1: O Choque de Oferta - Guerra do Golfo (1990)\n",
    "<img src=\"https://upload.wikimedia.org/wikipedia/commons/e/e1/Kuwait-oil-fire.JPEG\" width=\"700\" alt=\"Poços de petróleo do Kuwait em chamas em 1991.\">\n",
    "<p style=\"text-align: center; font-style: italic;\">Poços de petróleo do Kuwait em chamas, 1991. Fonte: Wikimedia Commons.</p>\n",
    "\n",
    "**Contexto:** Em agosto de 1990, o Iraque, sob o comando de Saddam Hussein, invadiu seu vizinho, o Kuwait. A comunidade internacional respondeu com sanções e, posteriormente, uma intervenção militar. Juntos, Iraque e Kuwait representavam uma parcela significativa da produção da OPEP. A invasão e a guerra subsequente retiraram milhões de barris do mercado quase que instantaneamente.\n",
    "\n",
    "**Impacto:** O mercado reagiu com pânico a um clássico **choque de oferta**. O medo da escassez prolongada fez com que os preços do petróleo mais do que dobrassem em apenas três meses, passando de cerca de $15 para mais de $40. O gráfico abaixo mostra essa subida quase vertical."
   ]
  },
  {
   "cell_type": "code",
   "execution_count": null,
   "metadata": {},
   "outputs": [],
   "source": [
    "if not df.empty:\n",
    "    df_zoom = df[(df['Date'] >= '1990-01-01') & (df['Date'] <= '1991-12-31')]\n",
    "    fig = px.line(df_zoom, x='Date', y='Price', title='Zoom: A Disparada de Preços na Guerra do Golfo')\n",
    "    fig.add_vrect(x0='1990-08-02', x1='1991-02-28', fillcolor=\"red\", opacity=0.2, line_width=0, annotation_text=\"Período do Conflito\")\n",
    "    fig.show()"
   ]
  },
  {
   "cell_type": "markdown",
   "metadata": {},
   "source": [
    "--- \n",
    "## Estudo de Caso 2: O Colapso da Demanda - Crise Financeira Global (2008)\n",
    "<img src=\"https://upload.wikimedia.org/wikipedia/commons/thumb/8/89/Lehman_Brothers_building.jpg/640px-Lehman_Brothers_building.jpg\" width=\"700\" alt=\"Sede do banco Lehman Brothers.\">\n",
    "<p style=\"text-align: center; font-style: italic;\">Sede do Lehman Brothers, cujo colapso em setembro de 2008 marcou o auge da crise. Fonte: Wikimedia Commons.</p>\n",
    "\n",
    "**Contexto:** Após anos de um \"superciclo\" de commodities que levou o petróleo a um pico histórico de $147 em julho de 2008, a bolha imobiliária nos EUA estourou. A falência do banco de investimentos Lehman Brothers em 15 de setembro de 2008 desencadeou uma crise financeira global em cascata, paralisando o crédito e jogando as maiores economias do mundo em uma profunda recessão.\n",
    "\n",
    "**Impacto:** Este foi um **choque de demanda** massivo. Com a atividade industrial em queda livre e o consumo em colapso, a demanda por energia evaporou. O preço do petróleo sofreu uma das quedas mais rápidas e brutais da história, despencando mais de 75% em menos de seis meses, como se vê no gráfico abaixo."
   ]
  },
  {
   "cell_type": "code",
   "execution_count": null,
   "metadata": {},
   "outputs": [],
   "source": [
    "if not df.empty:\n",
    "    df_zoom = df[(df['Date'] >= '2007-01-01') & (df['Date'] <= '2009-12-31')]\n",
    "    fig = px.line(df_zoom, x='Date', y='Price', title='Zoom: O Colapso dos Preços na Crise de 2008')\n",
    "    fig.add_vline(x='2008-09-15', line_width=2, line_dash=\"dash\", line_color=\"darkred\", annotation_text=\"Falência do Lehman Brothers\")\n",
    "    fig.show()"
   ]
  },
  {
   "cell_type": "markdown",
   "metadata": {},
   "source": [
    "--- \n",
    "## Estudo de Caso 3: O Mundo Para - Pandemia de COVID-19 (2020)\n",
    "<img src=\"https://upload.wikimedia.org/wikipedia/commons/thumb/c/c3/Lufthansa_A380_D-AIMB_Parked_FRA.jpg/640px-Lufthansa_A380_D-AIMB_Parked_FRA.jpg\" width=\"700\" alt=\"Aeronaves estacionadas durante a pandemia.\">\n",
    "<p style=\"text-align: center; font-style: italic;\">Aeronaves estacionadas em aeroporto, um símbolo da paralisação global. Fonte: Wikimedia Commons.</p>\n",
    "\n",
    "**Contexto:** No início de 2020, o mundo enfrentou uma crise sanitária sem precedentes. Para conter a propagação do coronavírus, governos implementaram lockdowns, fecharam fronteiras e restringiram viagens. A atividade econômica global foi efetivamente colocada em pausa.\n",
    "\n",
    "**Impacto:** O resultado foi o maior **choque de demanda** já registrado. Com aviões no chão, carros na garagem e fábricas fechadas, o consumo de petróleo caiu em mais de 20%. O mercado foi inundado com petróleo que ninguém queria, levando a uma queda de preços tão severa que o WTI (outro tipo de petróleo) chegou a ser negociado a preços negativos. O gráfico abaixo ilustra a queda vertiginosa do Brent."
   ]
  },
  {
   "cell_type": "code",
   "execution_count": null,
   "metadata": {},
   "outputs": [],
   "source": [
    "if not df.empty:\n",
    "    df_zoom = df[(df['Date'] >= '2019-12-01') & (df['Date'] <= '2020-12-31')]\n",
    "    fig = px.line(df_zoom, x='Date', y='Price', title='Zoom: A Queda Histórica durante a Pandemia')\n",
    "    fig.add_vrect(x0='2020-03-11', x1='2020-06-01', fillcolor=\"teal\", opacity=0.2, line_width=0, annotation_text=\"Lockdown Global\")\n",
    "    fig.show()"
   ]
  },
  {
   "cell_type": "markdown",
   "metadata": {},
   "source": [
    "--- \n",
    "## Estudo de Caso 4: O Retorno do Risco Geopolítico - Invasão da Ucrânia (2022)\n",
    "<img src=\"https://upload.wikimedia.org/wikipedia/commons/thumb/f/f7/Nord-Stream-2-Zug-3-Rohre.jpg/640px-Nord-Stream-2-Zug-3-Rohre.jpg\" width=\"700\" alt=\"Tubos do gasoduto Nord Stream 2.\">\n",
    "<p style=\"text-align: center; font-style: italic;\">Infraestrutura energética, como o gasoduto Nord Stream, tornou-se central na crise. Fonte: Wikimedia Commons.</p>\n",
    "\n",
    "**Contexto:** Em 24 de fevereiro de 2022, a Rússia lançou uma invasão em larga escala da Ucrânia, desencadeando o maior conflito militar na Europa desde a Segunda Guerra Mundial. O mundo respondeu com sanções pesadas contra a Rússia, uma das maiores superpotências energéticas do mundo, exportadora crucial de petróleo e gás natural.\n",
    "\n",
    "**Impacto:** Este foi um **choque de oferta e de risco** combinado. O mercado temia que as exportações russas fossem interrompidas, seja pela guerra ou pelas sanções. O preço do petróleo disparou, superando $130 por barril, com medo da escassez. A crise também acelerou a busca da Europa por fontes de energia alternativas, reconfigurando o mapa energético global de forma duradoura."
   ]
  },
  {
   "cell_type": "code",
   "execution_count": null,
   "metadata": {},
   "outputs": [],
   "source": [
    "if not df.empty:\n",
    "    df_zoom = df[(df['Date'] >= '2021-06-01') & (df['Date'] <= '2022-12-31')]\n",
    "    fig = px.line(df_zoom, x='Date', y='Price', title='Zoom: A Disparada de Preços na Invasão da Ucrânia')\n",
    "    fig.add_vline(x='2022-02-24', line_width=2, line_dash=\"dash\", line_color=\"firebrick\", annotation_text=\"Início da Invasão\")\n",
    "    fig.show()"
   ]
  },
  {
   "cell_type": "markdown",
   "metadata": {},
   "source": [
    "--- \n",
    "## Conclusão Final\n",
    "\n",
    "Ao viajar por estas quatro crises, vemos um padrão claro: o preço do petróleo é um sismógrafo sensível às placas tectônicas da história. Ele é abalado por **choques de oferta** (quando a produção é ameaçada, como na Guerra do Golfo), por **choques de demanda** (quando a economia global freia, como em 2008 e 2020) e pelo **medo do desconhecido** (o prêmio de risco geopolítico).\n",
    "\n",
    "Contar a história do petróleo é contar a história do nosso mundo interconectado e, muitas vezes, frágil. Cada gráfico, imagem e texto nesta análise serve como um tijolo na construção desse entendimento complexo."
   ]
  }
 ],
 "metadata": {
  "kernelspec": {
   "display_name": "Python 3",
   "language": "python",
   "name": "python3"
  }
 },
 "nbformat": 4,
 "nbformat_minor": 4
}